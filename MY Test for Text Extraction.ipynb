{
 "cells": [
  {
   "cell_type": "code",
   "execution_count": 1,
   "id": "81923fa2-d1fa-4811-a2b3-cbdba50f41a3",
   "metadata": {},
   "outputs": [
    {
     "name": "stdout",
     "output_type": "stream",
     "text": [
      "Collecting pytesseract\n",
      "  Downloading pytesseract-0.3.13-py3-none-any.whl.metadata (11 kB)\n",
      "Requirement already satisfied: packaging>=21.3 in c:\\users\\user\\anaconda3\\lib\\site-packages (from pytesseract) (23.1)\n",
      "Requirement already satisfied: Pillow>=8.0.0 in c:\\users\\user\\anaconda3\\lib\\site-packages (from pytesseract) (10.2.0)\n",
      "Downloading pytesseract-0.3.13-py3-none-any.whl (14 kB)\n",
      "Installing collected packages: pytesseract\n",
      "Successfully installed pytesseract-0.3.13\n"
     ]
    }
   ],
   "source": [
    "!pip install pytesseract"
   ]
  },
  {
   "cell_type": "code",
   "execution_count": 31,
   "id": "e693a572-9183-43d8-a7fe-d44826e22a5d",
   "metadata": {},
   "outputs": [
    {
     "name": "stdout",
     "output_type": "stream",
     "text": [
      "Overwriting object_detection.py\n"
     ]
    }
   ],
   "source": [
    "%%writefile object_detection.py\n",
    "import cv2\n",
    "import numpy as np\n",
    "import streamlit as st\n",
    "import pytesseract\n",
    "from PIL import Image\n",
    "\n",
    "st.title('Object Detection Application')\n",
    "uploaded_image = st.file_uploader('Please, Upload an Image...', type = ['jpg', 'png', 'jpeg'])\n",
    "\n",
    "\n",
    "pytesseract.pytesseract.tesseract_cmd = r'C:\\Program Files\\Tesseract-OCR\\tesseract.exe'\n",
    "\n",
    "def Extract_Text(img):\n",
    "    text = pytesseract.image_to_string(img)\n",
    "    return text\n",
    "\n",
    "if uploaded_image is not None:\n",
    "    img = Image.open(uploaded_image)\n",
    "    image_array = np.array(img)\n",
    "    st.image(image_array, caption='uploaded image :)' , use_column_width = True)\n",
    "    \n",
    "    with st.spinner('processing'):\n",
    "        extracted_text = Extract_Text(image_array)\n",
    "        st.subheader('Text Scanned')\n",
    "        #st.write(extracted_text)\n",
    "\n",
    "        text_list = extracted_text.splitlines()\n",
    "        for line in text_list:\n",
    "            st.write(line)"
   ]
  },
  {
   "cell_type": "code",
   "execution_count": null,
   "id": "e71b7314-c5cd-4a54-9052-5896c49522d8",
   "metadata": {},
   "outputs": [],
   "source": []
  }
 ],
 "metadata": {
  "kernelspec": {
   "display_name": "Python 3 (ipykernel)",
   "language": "python",
   "name": "python3"
  },
  "language_info": {
   "codemirror_mode": {
    "name": "ipython",
    "version": 3
   },
   "file_extension": ".py",
   "mimetype": "text/x-python",
   "name": "python",
   "nbconvert_exporter": "python",
   "pygments_lexer": "ipython3",
   "version": "3.11.7"
  }
 },
 "nbformat": 4,
 "nbformat_minor": 5
}
